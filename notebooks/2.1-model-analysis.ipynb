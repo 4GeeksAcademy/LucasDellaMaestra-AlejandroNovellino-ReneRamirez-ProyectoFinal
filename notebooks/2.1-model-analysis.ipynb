{
 "cells": [
  {
   "cell_type": "markdown",
   "id": "ca7fd189",
   "metadata": {},
   "source": []
  }
 ],
 "metadata": {
  "language_info": {
   "name": "python"
  }
 },
 "nbformat": 4,
 "nbformat_minor": 5
}
