{
 "cells": [
  {
   "cell_type": "code",
   "execution_count": null,
   "id": "bc73b0a2",
   "metadata": {},
   "outputs": [],
   "source": [
    "f_hotel: pd.DataFrame = load_data(\n",
    "    file_path=file_path, url=url, read_csv_params=read_csv_params, save_csv_params=save_csv_params\n",
    ")"
   ]
  }
 ],
 "metadata": {
  "language_info": {
   "name": "python"
  }
 },
 "nbformat": 4,
 "nbformat_minor": 5
}
